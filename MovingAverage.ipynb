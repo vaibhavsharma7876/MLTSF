{
 "cells": [
  {
   "cell_type": "code",
   "execution_count": null,
   "id": "b4db5ae2",
   "metadata": {},
   "outputs": [
    {
     "name": "stdout",
     "output_type": "stream",
     "text": [
      "Original Signal     : [10, 20, 30, 40, 50]\n",
      "1st Order Filtered  : [10.0, 15.0, 25.0, 35.0, 45.0]\n",
      "2nd Order Filtered  : [10.0, 15.0, 20.0, 30.0, 40.0]\n"
     ]
    }
   ],
   "source": [
    "def moving_average(signal, order):\n",
    "   \n",
    "    smoothed_values = []\n",
    "    for i in range(len(signal)):\n",
    "        start_index = max(0, i - order)    \n",
    "        window = signal[start_index : i + 1]\n",
    "        \n",
    "\n",
    "        average = sum(window) / len(window)\n",
    "        \n",
    "    \n",
    "        smoothed_values.append(average)\n",
    "    \n",
    "    return smoothed_values\n",
    "\n",
    "signal = [10, 20, 30, 40, 50]\n",
    "\n",
    "\n",
    "first_order_result = moving_average(signal, 1)\n",
    "\n",
    "\n",
    "second_order_result = moving_average(signal, 2)\n",
    "\n",
    "\n",
    "print(\"Original Signal     :\", signal)\n",
    "print(\"1st Order Filtered  :\", first_order_result)\n",
    "print(\"2nd Order Filtered  :\", second_order_result)\n"
   ]
  },
  {
   "cell_type": "code",
   "execution_count": null,
   "id": "ce252da2",
   "metadata": {},
   "outputs": [],
   "source": []
  }
 ],
 "metadata": {
  "kernelspec": {
   "display_name": "Python 3",
   "language": "python",
   "name": "python3"
  },
  "language_info": {
   "codemirror_mode": {
    "name": "ipython",
    "version": 3
   },
   "file_extension": ".py",
   "mimetype": "text/x-python",
   "name": "python",
   "nbconvert_exporter": "python",
   "pygments_lexer": "ipython3",
   "version": "3.12.3"
  }
 },
 "nbformat": 4,
 "nbformat_minor": 5
}
